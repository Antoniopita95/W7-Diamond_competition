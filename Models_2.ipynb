{
 "cells": [
  {
   "cell_type": "code",
   "execution_count": 24,
   "metadata": {},
   "outputs": [],
   "source": [
    "import pandas as pd\n",
    "from sklearn.model_selection import train_test_split\n",
    "from sklearn.preprocessing import StandardScaler\n",
    "from sklearn.linear_model import LinearRegression , Ridge, SGDRegressor\n",
    "from sklearn.metrics import mean_squared_error, r2_score\n",
    "from sklearn.pipeline import Pipeline"
   ]
  },
  {
   "cell_type": "code",
   "execution_count": 25,
   "metadata": {},
   "outputs": [],
   "source": [
    "diamonds_train = pd.read_csv(\"data/train.csv\")"
   ]
  },
  {
   "cell_type": "code",
   "execution_count": 26,
   "metadata": {},
   "outputs": [],
   "source": [
    "diamonds_train_1 = pd.get_dummies(diamonds_train, drop_first=True)"
   ]
  },
  {
   "cell_type": "code",
   "execution_count": 27,
   "metadata": {},
   "outputs": [],
   "source": [
    "X = diamonds_train_1.drop(\"price\", axis=1)\n",
    "y = diamonds_train_1[\"price\"]"
   ]
  },
  {
   "cell_type": "markdown",
   "metadata": {},
   "source": [
    "## Linear Regression"
   ]
  },
  {
   "cell_type": "code",
   "execution_count": 29,
   "metadata": {},
   "outputs": [
    {
     "data": {
      "text/plain": [
       "(0.03253338557975461, 0.031631993505494865)"
      ]
     },
     "execution_count": 29,
     "metadata": {},
     "output_type": "execute_result"
    }
   ],
   "source": [
    "X_train, X_test, y_train, y_test = train_test_split(X,y, random_state=666)\n",
    "\n",
    "pipe = Pipeline([\n",
    "    (\"scaler\", StandardScaler()),\n",
    "    (\"linear\", LinearRegression())\n",
    "])\n",
    "\n",
    "# Standarization & model Training\n",
    "pipe.fit(X_train, y_train)\n",
    "\n",
    "# Predicting\n",
    "y_pred_train = pipe.predict(X_train)\n",
    "y_pred_test = pipe.predict(X_test)\n",
    "\n",
    "# Metrics\n",
    "mse_train = mean_squared_error(y_pred_train,y_train)\n",
    "mse_test = mean_squared_error(y_pred_test,y_test)\n",
    "\n",
    "mse_train, mse_test"
   ]
  },
  {
   "cell_type": "code",
   "execution_count": 30,
   "metadata": {},
   "outputs": [
    {
     "data": {
      "text/plain": [
       "(0.9674984309769278, 0.9682647836143087)"
      ]
     },
     "execution_count": 30,
     "metadata": {},
     "output_type": "execute_result"
    }
   ],
   "source": [
    "r2_lr_train = r2_score(y_pred_train,y_train)\n",
    "r2_lr_test = r2_score(y_pred_test,y_test)\n",
    "r2_lr_train,r2_lr_test"
   ]
  },
  {
   "cell_type": "markdown",
   "metadata": {},
   "source": [
    "## Ridge"
   ]
  },
  {
   "cell_type": "code",
   "execution_count": 31,
   "metadata": {},
   "outputs": [
    {
     "data": {
      "text/plain": [
       "(0.032533508494805824, 0.03163163822664062)"
      ]
     },
     "execution_count": 31,
     "metadata": {},
     "output_type": "execute_result"
    }
   ],
   "source": [
    "X2_train, X2_test, y2_train, y2_test = train_test_split(X,y, random_state=666)\n",
    "\n",
    "pipe = Pipeline([\n",
    "    (\"scaler\", StandardScaler()),\n",
    "    (\"linear\", Ridge())\n",
    "])\n",
    "\n",
    "# Standarization & model Training\n",
    "pipe.fit(X2_train, y2_train)\n",
    "\n",
    "# Predicting\n",
    "y2_pred_train = pipe.predict(X2_train)\n",
    "y2_pred_test = pipe.predict(X2_test)\n",
    "\n",
    "# Metrics\n",
    "mse2_train = mean_squared_error(y2_pred_train,y2_train)\n",
    "mse2_test = mean_squared_error(y2_pred_test,y2_test)\n",
    "\n",
    "mse2_train, mse2_test"
   ]
  },
  {
   "cell_type": "code",
   "execution_count": 32,
   "metadata": {},
   "outputs": [
    {
     "data": {
      "text/plain": [
       "(0.9674934205640856, 0.9682600788862383)"
      ]
     },
     "execution_count": 32,
     "metadata": {},
     "output_type": "execute_result"
    }
   ],
   "source": [
    "#r2 Ridge\n",
    "r2_rd_train = r2_score(y2_pred_train,y2_train)\n",
    "r2_rd_test = r2_score(y2_pred_test,y2_test)\n",
    "r2_rd_train,r2_rd_test"
   ]
  },
  {
   "cell_type": "markdown",
   "metadata": {},
   "source": [
    "## Lasso"
   ]
  },
  {
   "cell_type": "code",
   "execution_count": 33,
   "metadata": {},
   "outputs": [
    {
     "data": {
      "text/plain": [
       "(1.0335123092944776, 1.0333348025607998)"
      ]
     },
     "execution_count": 33,
     "metadata": {},
     "output_type": "execute_result"
    }
   ],
   "source": [
    "X3_train, X3_test, y3_train, y3_test = train_test_split(X,y, random_state=666)\n",
    "\n",
    "pipe = Pipeline([\n",
    "    (\"scaler\", StandardScaler()),\n",
    "    (\"linear\", Lasso())\n",
    "])\n",
    "\n",
    "# Standarization & model Training\n",
    "pipe.fit(X3_train, y3_train)\n",
    "\n",
    "# Predicting\n",
    "y3_pred_train = pipe.predict(X3_train)\n",
    "y3_pred_test = pipe.predict(X3_test)\n",
    "\n",
    "# Metrics\n",
    "mse3_train = mean_squared_error(y3_pred_train,y3_train)\n",
    "mse3_test = mean_squared_error(y3_pred_test,y3_test)\n",
    "\n",
    "mse3_train, mse3_test"
   ]
  },
  {
   "cell_type": "code",
   "execution_count": 34,
   "metadata": {},
   "outputs": [
    {
     "data": {
      "text/plain": [
       "(-1.310132499220408e+30, -1.4554527585587964e+29)"
      ]
     },
     "execution_count": 34,
     "metadata": {},
     "output_type": "execute_result"
    }
   ],
   "source": [
    "#r2 Lasso\n",
    "r2_ls_train = r2_score(y3_pred_train,y3_train)\n",
    "r2_ls_test = r2_score(y3_pred_test,y3_test)\n",
    "r2_ls_train,r2_ls_test"
   ]
  },
  {
   "cell_type": "code",
   "execution_count": null,
   "metadata": {},
   "outputs": [],
   "source": []
  }
 ],
 "metadata": {
  "kernelspec": {
   "display_name": "Python 3",
   "language": "python",
   "name": "python3"
  },
  "language_info": {
   "codemirror_mode": {
    "name": "ipython",
    "version": 3
   },
   "file_extension": ".py",
   "mimetype": "text/x-python",
   "name": "python",
   "nbconvert_exporter": "python",
   "pygments_lexer": "ipython3",
   "version": "3.8.5"
  }
 },
 "nbformat": 4,
 "nbformat_minor": 4
}
